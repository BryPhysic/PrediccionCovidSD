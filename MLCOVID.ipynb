{
  "nbformat": 4,
  "nbformat_minor": 0,
  "metadata": {
    "colab": {
      "name": "MLCOVID.ipynb",
      "provenance": []
    },
    "kernelspec": {
      "name": "python3",
      "display_name": "Python 3"
    }
  },
  "cells": [
    {
      "cell_type": "markdown",
      "metadata": {
        "id": "TbvXEHVCH_zD"
      },
      "source": [
        "# **Predicción de Covid-19** \r\n",
        "\r\n",
        "\r\n",
        "---\r\n",
        "\r\n",
        "\r\n",
        "## A partir de datos de  estadísticos  con  regresión lineal y ajuste polinomial utilizando Machine Learning en Ecuador y la Provincia de Santo Domingo de los Tsachilas \r\n",
        "\r\n",
        "### Los datos  estadísticos  obtenidos son tomados  directamente de los repositorios  de   Robalino Andrés de Git Hub([andrab](https://github.com/andrab/ecuacovid)) y del Observatorio Social Del Ecuador([link](https://www.covid19ecuador.org/provincias))\r\n",
        "\r\n",
        "---\r\n",
        "\r\n",
        "\r\n",
        "\r\n",
        "\r\n",
        "\r\n"
      ]
    },
    {
      "cell_type": "markdown",
      "metadata": {
        "id": "Ul0gxWWlJ3pA"
      },
      "source": [
        "## **Importar librerias**"
      ]
    },
    {
      "cell_type": "code",
      "metadata": {
        "id": "VpctoZA0RV3T",
        "colab": {
          "base_uri": "https://localhost:8080/"
        },
        "outputId": "575a6669-b4a1-4c51-de32-d370802b2097"
      },
      "source": [
        "!pip install -U scikit-learn\r\n",
        "import pandas as pd\r\n",
        "import numpy as np\r\n",
        "import io\r\n",
        "import random  as  rd \r\n",
        "from sklearn.preprocessing import PolynomialFeatures\r\n",
        "from sklearn import linear_model\r\n",
        "import matplotlib.pyplot as plt\r\n",
        "from sklearn.neural_network import MLPRegressor\r\n",
        "from sklearn.model_selection import train_test_split"
      ],
      "execution_count": null,
      "outputs": [
        {
          "output_type": "stream",
          "text": [
            "Collecting scikit-learn\n",
            "\u001b[?25l  Downloading https://files.pythonhosted.org/packages/e2/4c/6111b9a325f29527d7f262e2ee8c730d354b47a728d955e186dacad57a0d/scikit_learn-0.24.1-cp36-cp36m-manylinux2010_x86_64.whl (22.2MB)\n",
            "\u001b[K     |████████████████████████████████| 22.2MB 41.5MB/s \n",
            "\u001b[?25hRequirement already satisfied, skipping upgrade: numpy>=1.13.3 in /usr/local/lib/python3.6/dist-packages (from scikit-learn) (1.19.5)\n",
            "Collecting threadpoolctl>=2.0.0\n",
            "  Downloading https://files.pythonhosted.org/packages/f7/12/ec3f2e203afa394a149911729357aa48affc59c20e2c1c8297a60f33f133/threadpoolctl-2.1.0-py3-none-any.whl\n",
            "Requirement already satisfied, skipping upgrade: joblib>=0.11 in /usr/local/lib/python3.6/dist-packages (from scikit-learn) (1.0.0)\n",
            "Requirement already satisfied, skipping upgrade: scipy>=0.19.1 in /usr/local/lib/python3.6/dist-packages (from scikit-learn) (1.4.1)\n",
            "Installing collected packages: threadpoolctl, scikit-learn\n",
            "  Found existing installation: scikit-learn 0.22.2.post1\n",
            "    Uninstalling scikit-learn-0.22.2.post1:\n",
            "      Successfully uninstalled scikit-learn-0.22.2.post1\n",
            "Successfully installed scikit-learn-0.24.1 threadpoolctl-2.1.0\n"
          ],
          "name": "stdout"
        }
      ]
    },
    {
      "cell_type": "markdown",
      "metadata": {
        "id": "ONVwsURuK7bM"
      },
      "source": [
        "## **Cargar Datos **\r\n",
        "\r\n",
        "### Cargaremos  los correspondientes archivos csv de las  páginas  \r\n",
        "\r\n",
        "\r\n",
        "1.   Datos  de casos en la Provicia de Santo Domingo (Observatorio Social Del Ecuador)\r\n",
        "2.   Datos de casos en Ecuado(Robalino Andrés) \r\n",
        "\r\n"
      ]
    },
    {
      "cell_type": "code",
      "metadata": {
        "id": "85vAyadzK3iL"
      },
      "source": [
        "Dat = '/content/drive/MyDrive/Recursos/SantoDomingo.csv'\r\n",
        "\r\n",
        "DatSd= pd.read_csv(Dat , delimiter= ';')\r\n",
        "\r\n",
        "Pais = pd.read_csv('/content/drive/MyDrive/Recursos/datos_Pais.csv')\r\n"
      ],
      "execution_count": null,
      "outputs": []
    },
    {
      "cell_type": "code",
      "metadata": {
        "colab": {
          "base_uri": "https://localhost:8080/"
        },
        "id": "7e5tbCatvkmC",
        "outputId": "00c9d820-3836-46ab-baad-3613e4550e42"
      },
      "source": [
        "print(DatSd)\r\n"
      ],
      "execution_count": null,
      "outputs": [
        {
          "output_type": "stream",
          "text": [
            "     Año_de_Fecha  ... Sum_casos_acumulados\n",
            "0            2020  ...                  NaN\n",
            "1            2020  ...                  1.0\n",
            "2            2020  ...                  NaN\n",
            "3            2020  ...                  1.0\n",
            "4            2020  ...                  NaN\n",
            "..            ...  ...                  ...\n",
            "611          2021  ...               6357.0\n",
            "612          2021  ...                  NaN\n",
            "613          2021  ...               6416.0\n",
            "614          2021  ...                  NaN\n",
            "615          2021  ...               6429.0\n",
            "\n",
            "[616 rows x 6 columns]\n"
          ],
          "name": "stdout"
        }
      ]
    },
    {
      "cell_type": "code",
      "metadata": {
        "colab": {
          "base_uri": "https://localhost:8080/"
        },
        "id": "W_8qLPMpvz9w",
        "outputId": "a6ddb41d-0e9c-4fae-ba03-a0a2178d80ae"
      },
      "source": [
        "print(Pais)"
      ],
      "execution_count": null,
      "outputs": [
        {
          "output_type": "stream",
          "text": [
            "       informacion  13/03/2020  14/03/2020  ...  28/01/2021  29/01/2021  30/01/2021\n",
            "0  Total Positivas          23          28  ...      254956      255643      258735\n",
            "1              PCR          23          28  ...      246000      246687      249779\n",
            "2           Nuevas           0           5  ...        2465         687        3092\n",
            "3          Rápidas           0           0  ...        8956        8956        8956\n",
            "\n",
            "[4 rows x 325 columns]\n"
          ],
          "name": "stdout"
        }
      ]
    },
    {
      "cell_type": "markdown",
      "metadata": {
        "id": "kZhJGhCYNSaD"
      },
      "source": [
        "### Para la  primera tabla arreglaremos  la tabla de  datos adquirida para  poder  tener los datos de una manera mejor organizada añadiendo el número de días, fecha y el número de casos y crearemos  otro Archivo csv ya  arrglado para su posterior manipulación estos archivos estarán en  mi Repositorio de  Git Hub\r\n",
        "\r\n"
      ]
    },
    {
      "cell_type": "code",
      "metadata": {
        "id": "H3zMdEoVMKs5",
        "colab": {
          "base_uri": "https://localhost:8080/"
        },
        "outputId": "6022397c-129f-4bf6-90e0-67921fbddf1c"
      },
      "source": [
        "año, dia, mes, casos =[],[],[],[]\r\n",
        "for i in range(len(DatSd['Año_de_Fecha'])):\r\n",
        "  if i%2 ==0 :\r\n",
        "    año.append(DatSd['Año_de_Fecha'][i])\r\n",
        "    dia.append(DatSd['Día_Fecha'][i])\r\n",
        "    mes.append(DatSd['Mes_Fecha'][i])\r\n",
        "    casos.append((DatSd['Máx_casos_acumulados'][i]))\r\n",
        "\r\n",
        "etiquetas = []\r\n",
        "for  i in range(len(casos)):\r\n",
        "  etiquetas.append(str(dia[i]) + ' de '+ str(mes[i]) + ' del ' + str(año[i]))\r\n",
        "\r\n",
        "dias = list(range(1,len(mes)+1))\r\n",
        "Dias =pd.DataFrame({'Dias':dias})\r\n",
        "Tabla1 = pd.DataFrame({'Fechas':etiquetas})\r\n",
        "Tabla2 = pd.DataFrame({'Numero de Casos':casos})\r\n",
        "Tabla_Entera = pd.concat([Dias,Tabla1,Tabla2], axis= 1)\r\n",
        "Tabla_Entera.to_csv(r'/content/drive/MyDrive/Recursos/DatosSAntoDomingo.csv', index= False)\r\n",
        "\r\n",
        "DatosSd = pd.read_csv('/content/drive/MyDrive/Recursos/DatosSAntoDomingo.csv')\r\n",
        "print(DatosSd)"
      ],
      "execution_count": null,
      "outputs": [
        {
          "output_type": "stream",
          "text": [
            "     Dias                Fechas  Numero de Casos\n",
            "0       1  19 de marzo del 2020                1\n",
            "1       2  20 de marzo del 2020                1\n",
            "2       3  21 de marzo del 2020                4\n",
            "3       4  22 de marzo del 2020                4\n",
            "4       5  23 de marzo del 2020                7\n",
            "..    ...                   ...              ...\n",
            "303   304  17 de enero del 2021             6352\n",
            "304   305  18 de enero del 2021             6352\n",
            "305   306  19 de enero del 2021             6357\n",
            "306   307  20 de enero del 2021             6416\n",
            "307   308  21 de enero del 2021             6429\n",
            "\n",
            "[308 rows x 3 columns]\n"
          ],
          "name": "stdout"
        }
      ]
    },
    {
      "cell_type": "markdown",
      "metadata": {
        "id": "rTKUpngWPbbp"
      },
      "source": [
        "### Para la segunda tabla que  corresponde al país  debemos transponer  sus  datos y agregar el número de  días transcurridos"
      ]
    },
    {
      "cell_type": "code",
      "metadata": {
        "id": "5UJYji03M1A7",
        "colab": {
          "base_uri": "https://localhost:8080/"
        },
        "outputId": "e34d081d-fa73-4a26-97c4-fedb8bb84ff2"
      },
      "source": [
        "Pais.T.to_csv('/content/drive/MyDrive/Recursos/DatosPais.csv' , index=True, header=False)\r\n",
        "Datos_Pais = pd.read_csv('/content/drive/MyDrive/Recursos/DatosPais.csv')\r\n",
        "Dias=pd.DataFrame({'Dias':list(range(1,len(Datos_Pais.informacion )+1 ))})\r\n",
        "Datos_Pais =pd.concat([Dias , Datos_Pais], axis= 1 )\r\n",
        "print(Datos_Pais)"
      ],
      "execution_count": null,
      "outputs": [
        {
          "output_type": "stream",
          "text": [
            "     Dias informacion  Total Positivas     PCR  Nuevas  Rápidas\n",
            "0       1  13/03/2020               23      23       0        0\n",
            "1       2  14/03/2020               28      28       5        0\n",
            "2       3  15/03/2020               37      37       9        0\n",
            "3       4  16/03/2020               58      58      21        0\n",
            "4       5  17/03/2020              111     111      53        0\n",
            "..    ...         ...              ...     ...     ...      ...\n",
            "319   320  26/01/2021           251102  242146     579     8956\n",
            "320   321  27/01/2021           252491  243535    1389     8956\n",
            "321   322  28/01/2021           254956  246000    2465     8956\n",
            "322   323  29/01/2021           255643  246687     687     8956\n",
            "323   324  30/01/2021           258735  249779    3092     8956\n",
            "\n",
            "[324 rows x 6 columns]\n"
          ],
          "name": "stdout"
        }
      ]
    },
    {
      "cell_type": "markdown",
      "metadata": {
        "id": "Hb7xbBO_Q-XP"
      },
      "source": [
        "## Gráfica Provincia de SD "
      ]
    },
    {
      "cell_type": "code",
      "metadata": {
        "id": "DnuFM5lAQSzH",
        "colab": {
          "base_uri": "https://localhost:8080/",
          "height": 279
        },
        "outputId": "631d6fc6-e737-4823-af74-2458c244a49d"
      },
      "source": [
        "#print(DatosSd)\r\n",
        "Xs=np.array(DatosSd['Dias'])\r\n",
        "Ys=np.array(DatosSd['Numero de Casos'])\r\n",
        "Labels = np.array(DatosSd.Fechas)\r\n",
        "plt.plot(Xs,Ys)\r\n",
        "plt.grid()\r\n",
        "plt.xlabel(\"Dias\")\r\n",
        "plt.ylabel(\"Casos\")\r\n",
        "plt.xlim(0,len(Xs)+10)\r\n",
        "plt.ylim(0,Ys[-1]+100)\r\n",
        "#plt.xticks(Xs ,Labels ,rotation = 90 )\r\n",
        "plt.show()"
      ],
      "execution_count": null,
      "outputs": [
        {
          "output_type": "display_data",
          "data": {
            "image/png": "[encoded data removed]",
            "text/plain": [
              "<Figure size 432x288 with 1 Axes>"
            ]
          },
          "metadata": {
            "tags": [],
            "needs_background": "light"
          }
        }
      ]
    },
    {
      "cell_type": "markdown",
      "metadata": {
        "id": "98BpV1wURidn"
      },
      "source": [
        "##Gráfica Casos Ecuador"
      ]
    },
    {
      "cell_type": "code",
      "metadata": {
        "id": "ZzdbMDogRX_a",
        "colab": {
          "base_uri": "https://localhost:8080/",
          "height": 279
        },
        "outputId": "fc3f8715-78c8-45c9-f2c5-97d8f19f6ca8"
      },
      "source": [
        "#print(Datos_Pais)\r\n",
        "Xe=np.array(Datos_Pais['Dias'])\r\n",
        "Ye=np.array(Datos_Pais['Total Positivas'])\r\n",
        "Labelse = np.array(Datos_Pais.informacion)\r\n",
        "plt.plot(Xe,Ye)\r\n",
        "plt.grid()\r\n",
        "plt.xlabel(\"Dias\")\r\n",
        "plt.ylabel(\"Casos\")\r\n",
        "plt.xlim(0,len(Xs)+20)\r\n",
        "plt.ylim(0,Ye[-1]+5000)\r\n",
        "#plt.xticks(Xe ,Labelse ,rotation = 90 )\r\n",
        "plt.show()"
      ],
      "execution_count": null,
      "outputs": [
        {
          "output_type": "display_data",
          "data": {
            "image/png": "[encoded data removed]",
            "text/plain": [
              "<Figure size 432x288 with 1 Axes>"
            ]
          },
          "metadata": {
            "tags": [],
            "needs_background": "light"
          }
        }
      ]
    },
    {
      "cell_type": "markdown",
      "metadata": {
        "id": "9-_HmipMSdj-"
      },
      "source": [
        "#**Regresión y predicción**"
      ]
    },
    {
      "cell_type": "markdown",
      "metadata": {
        "id": "sE1FNVF1TUiY"
      },
      "source": [
        "##**Regresión**\r\n"
      ]
    },
    {
      "cell_type": "code",
      "metadata": {
        "colab": {
          "base_uri": "https://localhost:8080/",
          "height": 409
        },
        "id": "J8N5LcJzSBoM",
        "outputId": "a5341f89-bfae-422d-b796-3acfeda34d64"
      },
      "source": [
        "print(\" Seleccion de Data set de Ecuador o Santo Domingo \\n escoja:\\n Santo Domingo = 1 \\n Ecuador = 2\")\r\n",
        "while True:\r\n",
        "  sel = int(input('introduzca eleccion :  '))\r\n",
        "  if sel==1 or sel ==2:\r\n",
        "    break\r\n",
        "\r\n",
        "if sel == 1:\r\n",
        "  x =  np.array(DatosSd['Dias']) \r\n",
        "  y  = np.array(DatosSd['Numero de Casos'])\r\n",
        "  n =int(input('ingrese el  numero de dias  apartir del 22 de enero 2021: '))\r\n",
        "elif sel == 2:\r\n",
        "  x =  np.array(Datos_Pais['Dias']) \r\n",
        "  y  = np.array(Datos_Pais['Total Positivas'])\r\n",
        "  n =int(input('ingrese el  numero de dias  apartir del 30 de enero 2021: '))\r\n",
        "\r\n",
        "\r\n",
        "x = mean_data = np.array(x)\r\n",
        "X = x[:,np.newaxis]\r\n",
        "\r\n",
        "while True:\r\n",
        "\r\n",
        "  X_train , X_test, Y_train, Y_test = train_test_split(X,y , test_size=0.15)\r\n",
        "  mlr = MLPRegressor(solver='lbfgs',alpha=1e-5,hidden_layer_sizes=(3,3), random_state=1)\r\n",
        "  mlr.fit(X_train,Y_train)\r\n",
        "  if mlr.score(X_train, Y_train) > 0.92:\r\n",
        "\r\n",
        "    break \r\n",
        "print(\" su prediccion es :\")\r\n",
        "print(mlr.predict(np.array(x[-1] + n ).reshape(1, 1)))\r\n",
        "plt.plot(x,y) \r\n",
        "plt.grid()\r\n",
        "plt.show()\r\n"
      ],
      "execution_count": null,
      "outputs": [
        {
          "output_type": "stream",
          "text": [
            " Seleccion de Data set de Ecuador o Santo Domingo \n",
            " escoja:\n",
            " Santo Domingo = 1 \n",
            " Ecuador = 2\n",
            "introduzca eleccion :  2\n",
            "ingrese el  numero de dias  apartir del 30 de enero 2021: 5\n",
            " su prediccion es :\n",
            "[254666.2024429]\n"
          ],
          "name": "stdout"
        },
        {
          "output_type": "display_data",
          "data": {
            "image/png": "[encoded data removed]",
            "text/plain": [
              "<Figure size 432x288 with 1 Axes>"
            ]
          },
          "metadata": {
            "tags": [],
            "needs_background": "light"
          }
        }
      ]
    },
    {
      "cell_type": "markdown",
      "metadata": {
        "id": "MV7-r9-6jmDT"
      },
      "source": [
        "## **Predicción**"
      ]
    },
    {
      "cell_type": "code",
      "metadata": {
        "colab": {
          "base_uri": "https://localhost:8080/",
          "height": 427
        },
        "id": "lyEGW1Dzj5_D",
        "outputId": "6b7f58c7-bbdd-4430-ed93-52995e3656b6"
      },
      "source": [
        "print(\" Seleccion de Data set de Ecuador o Santo Domingo \\n escoja:\\n Santo Domingo = 1 \\n Ecuador = 2\")\r\n",
        "while True:\r\n",
        "  sel = int(input('introduzca eleccion :  '))\r\n",
        "  if sel==1 or sel ==2:\r\n",
        "    break\r\n",
        "\r\n",
        "\r\n",
        "if sel == 1:\r\n",
        "  Data = DatosSd\r\n",
        "  Data = Data[['Dias', 'Numero de Casos']]\r\n",
        "  x = np.array(Data['Dias']).reshape(-1,1)\r\n",
        "  y = np.array(Data['Numero de Casos']).reshape(-1,1)\r\n",
        "  print('Predicción Santo Domingo ')\r\n",
        "elif sel == 2:\r\n",
        "  Data_pais = Datos_Pais\r\n",
        "  Data_pais = Data_pais[['Dias','Total Positivas']]\r\n",
        "  x = np.array(Data_pais['Dias']).reshape(-1,1)\r\n",
        "  y = np.array(Data_pais['Total Positivas']).reshape(-1,1)\r\n",
        "  print('Predicción Ecuador ')\r\n",
        "\r\n",
        "plt.plot(y,'-r')\r\n",
        "#plt.show()\r\n",
        "Pol = PolynomialFeatures(degree= 8) # tener en  cuenta el  overfitting \r\n",
        "X = Pol.fit_transform(x)\r\n",
        "# entrenamiento  \r\n",
        "Modelo = linear_model.LinearRegression()\r\n",
        "Modelo.fit(X,y)\r\n",
        "Accuracy = Modelo.score(X,y)\r\n",
        "print(f'Accuracy : {round(Accuracy*100 ,3)} %')\r\n",
        "Y = Modelo.predict(X)\r\n",
        "### predccion ### \r\n",
        "if sel ==1:\r\n",
        "  dias = input('ingrese el  número de días a partir de 22 de enero 2021: ')\r\n",
        "elif sel == 2:\r\n",
        "  dias = input('ingrese el  número de días a partir de 30 de enero 2021: ')\r\n",
        "dias = int(dias)\r\n",
        "print(f'Predicción de casos después {dias} días: ', end='' )\r\n",
        "print(round(int(Modelo.predict(Pol.fit_transform([[int(x[-1]) + dias]] )))/1,2),'personas')\r\n",
        "\r\n",
        "x1 = np.array(list(range(1,int(x[-1]) + dias))).reshape(-1, 1)\r\n",
        "y1 = Modelo.predict(Pol.fit_transform(x1))\r\n",
        "plt.plot(y1,'--m')\r\n",
        "plt.grid()\r\n",
        "plt.plot(Y, '--b')\r\n",
        "plt.show()"
      ],
      "execution_count": null,
      "outputs": [
        {
          "output_type": "stream",
          "text": [
            " Seleccion de Data set de Ecuador o Santo Domingo \n",
            " escoja:\n",
            " Santo Domingo = 1 \n",
            " Ecuador = 2\n",
            "introduzca eleccion :  2\n",
            "Predicción Ecuador \n",
            "Accuracy : 99.892 %\n",
            "ingrese el  número de días a partir de 30 de enero 2021: 5\n",
            "Predicción de casos después 5 días: 262623.0 personas\n"
          ],
          "name": "stdout"
        },
        {
          "output_type": "display_data",
          "data": {
            "image/png": "[encoded data removed]",
            "text/plain": [
              "<Figure size 432x288 with 1 Axes>"
            ]
          },
          "metadata": {
            "tags": [],
            "needs_background": "light"
          }
        }
      ]
    },
    {
      "cell_type": "code",
      "metadata": {
        "id": "djw0nB9vlIfv"
      },
      "source": [
        ""
      ],
      "execution_count": null,
      "outputs": []
    }
  ]
}